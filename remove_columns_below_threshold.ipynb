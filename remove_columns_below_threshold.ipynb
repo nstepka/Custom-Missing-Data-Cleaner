{
 "cells": [
  {
   "cell_type": "code",
   "execution_count": 6,
   "metadata": {},
   "outputs": [
    {
     "name": "stdout",
     "output_type": "stream",
     "text": [
      "Clean DataFrame:\n",
      "     A  C\n",
      "0  1.0  1\n",
      "1  2.0  2\n",
      "2  NaN  3\n",
      "3  4.0  4\n",
      "4  5.0  5\n",
      "\n",
      "Removed columns:\n",
      "['B', 'D']\n",
      "\n",
      "Missing data statistics:\n",
      "{'B': {'missing_count': 3, 'missing_percentage': 60.0, 'reason': 'Exceeds compliance threshold'}, 'D': {'missing_count': 0, 'missing_percentage': 0.0, 'reason': 'Contains non-numeric values'}}\n"
     ]
    }
   ],
   "source": [
    "import pandas as pd  # Import Pandas library for data manipulation\n",
    "import numpy as np   # Import NumPy library for numerical operations\n",
    "\n",
    "# Define a function to remove columns below a threshold in terms of missing data percentage\n",
    "def remove_columns_below_threshold(df, compliance_threshold):\n",
    "    columns_to_remove = []  # List to store columns that will be removed\n",
    "    missing_data_stats = {}  # Dictionary to store missing data statistics\n",
    "\n",
    "    # Iterate through columns in the DataFrame\n",
    "    for column in df.columns:\n",
    "        missing_count = df[column].isna().sum()  # Count missing values in the column\n",
    "        missing_percentage = (missing_count / len(df)) * 100  # Calculate the percentage of missing values\n",
    "        reason = ''  # Variable to store the reason for removal\n",
    "\n",
    "        # If missing percentage is greater than the threshold, mark the column for removal\n",
    "        if missing_percentage > compliance_threshold:\n",
    "            columns_to_remove.append(column)\n",
    "            reason = 'Exceeds compliance threshold'\n",
    "        # If the column contains non-numeric values, mark it for removal\n",
    "        elif df[column].dtype == object:\n",
    "            columns_to_remove.append(column)\n",
    "            reason = 'Contains non-numeric values'\n",
    "\n",
    "        # If a reason is set, store the column's missing data statistics\n",
    "        if reason != '':\n",
    "            missing_data_stats[column] = {\n",
    "                'missing_count': missing_count,\n",
    "                'missing_percentage': missing_percentage,\n",
    "                'reason': reason,\n",
    "            }\n",
    "\n",
    "    # Create a clean DataFrame by removing marked columns\n",
    "    df_clean = df.drop(columns_to_remove, axis=1)\n",
    "\n",
    "    # Return the clean DataFrame, removed columns list, and missing data statistics\n",
    "    return df_clean, columns_to_remove, missing_data_stats\n",
    "\n",
    "# Usage\n",
    "data = {\n",
    "    'A': [1, 2, None, 4, 5],\n",
    "    'B': [None, None, None, 4, 5],\n",
    "    'C': [1, 2, 3, 4, 5],\n",
    "    'D': ['a', 1,2,4,3],\n",
    "}\n",
    "\n",
    "df = pd.DataFrame(data)  # Create a DataFrame from the sample data\n",
    "\n",
    "compliance_threshold = 20  # Set the threshold as a percentage\n",
    "\n",
    "# Call the function and store the clean DataFrame, removed columns, and missing data statistics\n",
    "df_clean, removed_columns, missing_data = remove_columns_below_threshold(df, compliance_threshold)\n",
    "\n",
    "# Print the results\n",
    "print(\"Clean DataFrame:\")\n",
    "print(df_clean)\n",
    "print(\"\\nRemoved columns:\")\n",
    "print(removed_columns)\n",
    "print(\"\\nMissing data statistics:\")\n",
    "print(missing_data)\n",
    "\n"
   ]
  },
  {
   "cell_type": "code",
   "execution_count": null,
   "metadata": {},
   "outputs": [],
   "source": []
  }
 ],
 "metadata": {
  "kernelspec": {
   "display_name": "Python 3",
   "language": "python",
   "name": "python3"
  },
  "language_info": {
   "codemirror_mode": {
    "name": "ipython",
    "version": 3
   },
   "file_extension": ".py",
   "mimetype": "text/x-python",
   "name": "python",
   "nbconvert_exporter": "python",
   "pygments_lexer": "ipython3",
   "version": "3.10.9"
  },
  "orig_nbformat": 4
 },
 "nbformat": 4,
 "nbformat_minor": 2
}
