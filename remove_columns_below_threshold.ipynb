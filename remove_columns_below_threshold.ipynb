{
 "cells": [
  {
   "cell_type": "code",
   "execution_count": 1,
   "metadata": {},
   "outputs": [
    {
     "name": "stdout",
     "output_type": "stream",
     "text": [
      "     A  C\n",
      "0  1.0  1\n",
      "1  2.0  2\n",
      "2  NaN  3\n",
      "3  4.0  4\n",
      "4  5.0  5\n",
      "['B']\n",
      "{'B': {'missing_count': 3, 'missing_percentage': 60.0}}\n"
     ]
    }
   ],
   "source": [
    "import pandas as pd\n",
    "\n",
    "def remove_columns_below_threshold(df, compliance_threshold):\n",
    "    columns_to_remove = []\n",
    "    missing_data_stats = {}\n",
    "\n",
    "    for column in df.columns:\n",
    "        missing_count = df[column].isna().sum()\n",
    "        missing_percentage = (missing_count / len(df)) * 100\n",
    "\n",
    "        if missing_percentage > compliance_threshold:\n",
    "            columns_to_remove.append(column)\n",
    "            missing_data_stats[column] = {\n",
    "                'missing_count': missing_count,\n",
    "                'missing_percentage': missing_percentage,\n",
    "            }\n",
    "\n",
    "    df_clean = df.drop(columns_to_remove, axis=1)\n",
    "\n",
    "    return df_clean, columns_to_remove, missing_data_stats\n",
    "\n",
    "# Usage\n",
    "data = {\n",
    "    'A': [1, 2, None, 4, 5],\n",
    "    'B': [None, None, None, 4, 5],\n",
    "    'C': [1, 2, 3, 4, 5],\n",
    "}\n",
    "\n",
    "df = pd.DataFrame(data)\n",
    "\n",
    "compliance_threshold = 20  # percentage\n",
    "df_clean, removed_columns, missing_data = remove_columns_below_threshold(df, compliance_threshold)\n",
    "\n",
    "print(df_clean)\n",
    "print(removed_columns)\n",
    "print(missing_data)"
   ]
  },
  {
   "attachments": {},
   "cell_type": "markdown",
   "metadata": {},
   "source": [
    "This example demonstrates how to use the remove_columns_below_threshold function with a pandas DataFrame and a compliance threshold percentage. The function returns the cleaned DataFrame, a list of removed columns, and a dictionary containing the missing data statistics for each removed column."
   ]
  },
  {
   "cell_type": "code",
   "execution_count": null,
   "metadata": {},
   "outputs": [],
   "source": [
    "from missing_data_cleaner import remove_columns_below_threshold\n",
    "\n",
    "# Create a pandas DataFrame\n",
    "data = {\n",
    "    'A': [1, 2, None, 4, 5],\n",
    "    'B': [None, None, None, 4, 5],\n",
    "    'C': [1, 2, 3, 4, 5],\n",
    "}\n",
    "df = pd.DataFrame(data)\n",
    "\n",
    "# Set a compliance threshold (percentage)\n",
    "compliance_threshold = 20\n",
    "\n",
    "# Call the function\n",
    "df_clean, removed_columns, missing_data = remove_columns_below_threshold(df, compliance_threshold)\n",
    "\n",
    "# The cleaned DataFrame, removed columns, and missing data statistics are returned\n",
    "print(df_clean)\n",
    "print(removed_columns)\n",
    "print(missing_data)"
   ]
  },
  {
   "cell_type": "code",
   "execution_count": null,
   "metadata": {},
   "outputs": [],
   "source": []
  }
 ],
 "metadata": {
  "kernelspec": {
   "display_name": "Python 3",
   "language": "python",
   "name": "python3"
  },
  "language_info": {
   "codemirror_mode": {
    "name": "ipython",
    "version": 3
   },
   "file_extension": ".py",
   "mimetype": "text/x-python",
   "name": "python",
   "nbconvert_exporter": "python",
   "pygments_lexer": "ipython3",
   "version": "3.10.9"
  },
  "orig_nbformat": 4
 },
 "nbformat": 4,
 "nbformat_minor": 2
}
